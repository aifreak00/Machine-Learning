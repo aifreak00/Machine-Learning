{
 "cells": [
  {
   "cell_type": "code",
   "execution_count": 1,
   "id": "361bcf1d",
   "metadata": {
    "_cell_guid": "b1076dfc-b9ad-4769-8c92-a6c4dae69d19",
    "_uuid": "8f2839f25d086af736a60e9eeb907d3b93b6e0e5",
    "execution": {
     "iopub.execute_input": "2023-01-17T17:49:25.671244Z",
     "iopub.status.busy": "2023-01-17T17:49:25.670792Z",
     "iopub.status.idle": "2023-01-17T17:49:25.684435Z",
     "shell.execute_reply": "2023-01-17T17:49:25.683467Z"
    },
    "papermill": {
     "duration": 0.022802,
     "end_time": "2023-01-17T17:49:25.687358",
     "exception": false,
     "start_time": "2023-01-17T17:49:25.664556",
     "status": "completed"
    },
    "tags": []
   },
   "outputs": [
    {
     "name": "stdout",
     "output_type": "stream",
     "text": [
      "/kaggle/input/titanic/train.csv\n",
      "/kaggle/input/titanic/test.csv\n",
      "/kaggle/input/titanic/gender_submission.csv\n"
     ]
    }
   ],
   "source": [
    "# This Python 3 environment comes with many helpful analytics libraries installed\n",
    "# It is defined by the kaggle/python Docker image: https://github.com/kaggle/docker-python\n",
    "# For example, here's several helpful packages to load\n",
    "\n",
    "import numpy as np # linear algebra\n",
    "import pandas as pd # data processing, CSV file I/O (e.g. pd.read_csv)\n",
    "\n",
    "# Input data files are available in the read-only \"../input/\" directory\n",
    "# For example, running this (by clicking run or pressing Shift+Enter) will list all files under the input directory\n",
    "\n",
    "import os\n",
    "for dirname, _, filenames in os.walk('/kaggle/input'):\n",
    "    for filename in filenames:\n",
    "        print(os.path.join(dirname, filename))\n",
    "\n",
    "# You can write up to 20GB to the current directory (/kaggle/working/) that gets preserved as output when you create a version using \"Save & Run All\" \n",
    "# You can also write temporary files to /kaggle/temp/, but they won't be saved outside of the current session"
   ]
  },
  {
   "cell_type": "code",
   "execution_count": 2,
   "id": "08ba2b71",
   "metadata": {
    "execution": {
     "iopub.execute_input": "2023-01-17T17:49:25.696193Z",
     "iopub.status.busy": "2023-01-17T17:49:25.695553Z",
     "iopub.status.idle": "2023-01-17T17:49:27.019415Z",
     "shell.execute_reply": "2023-01-17T17:49:27.018452Z"
    },
    "papermill": {
     "duration": 1.330719,
     "end_time": "2023-01-17T17:49:27.021942",
     "exception": false,
     "start_time": "2023-01-17T17:49:25.691223",
     "status": "completed"
    },
    "tags": []
   },
   "outputs": [],
   "source": [
    "from sklearn.neighbors import KNeighborsClassifier, KNeighborsRegressor\n",
    "from sklearn.model_selection import GridSearchCV, cross_val_score\n",
    "\n",
    "#These two functions we will use for data processing\n",
    "from sklearn.preprocessing import OneHotEncoder, MinMaxScaler, MaxAbsScaler, RobustScaler, StandardScaler\n",
    "\n",
    "#We want to create an unseen test set that we can use to get an estimate of our accuracy\n",
    "from sklearn.model_selection import train_test_split\n",
    "import time"
   ]
  },
  {
   "cell_type": "code",
   "execution_count": 3,
   "id": "08a84c42",
   "metadata": {
    "execution": {
     "iopub.execute_input": "2023-01-17T17:49:27.030972Z",
     "iopub.status.busy": "2023-01-17T17:49:27.029749Z",
     "iopub.status.idle": "2023-01-17T17:49:27.109003Z",
     "shell.execute_reply": "2023-01-17T17:49:27.107302Z"
    },
    "papermill": {
     "duration": 0.086434,
     "end_time": "2023-01-17T17:49:27.111964",
     "exception": false,
     "start_time": "2023-01-17T17:49:27.025530",
     "status": "completed"
    },
    "tags": []
   },
   "outputs": [],
   "source": [
    "#First we import the training set\n",
    "train = pd.read_csv('../input/titanic/train.csv')\n",
    "#train, dev = train_test_split(train, test_size = .1)\n",
    "\n",
    "#Now we import the test set\n",
    "test = pd.read_csv('../input/titanic/test.csv')\n",
    "\n",
    "#There may be some additional information that we can get from these columns, but for ease of fitting we will just drop them\n",
    "train = train.drop(['PassengerId'], axis = 1)\n",
    "\n",
    "#In order to do our submission we need to preserve these. Then we can drop them\n",
    "test_ids = test.PassengerId\n",
    "test = test.drop(['PassengerId'], axis = 1)\n",
    "\n",
    "\n",
    "train_labels = train.Survived\n",
    "train = train.drop(['Survived'], axis = 1)\n",
    "\n",
    "\n",
    "#get value of ticket number\n",
    "train[\"Ticket\"] = train[\"Ticket\"].str.slice(stop=1).replace(to_replace ='[A-Z]', value = '3', regex = True) \n",
    "test[\"Ticket\"] = test[\"Ticket\"].str.slice(stop=1).replace(to_replace ='[A-Z]', value = '3', regex = True)\n",
    "\n",
    "\n",
    "#get cabint number\n",
    "train[\"Cabin\"] = train[\"Cabin\"] \\\n",
    "    .str.slice(stop=3) \\\n",
    "    .replace(to_replace = '[ A-Z]', value='', regex=True) \\\n",
    "    .replace(to_replace = '', value='0') \\\n",
    "    .fillna('0') \\\n",
    "    .astype('int') \\\n",
    "    .div(10) \\\n",
    "    .astype('int') \\\n",
    "             \n",
    "test[\"Cabin\"] = test[\"Cabin\"] \\\n",
    "    .str.slice(stop=3) \\\n",
    "    .replace(to_replace = '[ A-Z]', value='', regex=True) \\\n",
    "    .replace(to_replace = '', value='0') \\\n",
    "    .fillna('0') \\\n",
    "    .astype('int') \\\n",
    "    .div(10) \\\n",
    "    .astype('int') \\\n",
    "\n",
    "#fill in nan\n",
    "train[\"Age\"] = train['Age'] \\\n",
    "    .fillna(30) \\\n",
    "    .astype('int')\n",
    "test[\"Age\"] = test['Age'] \\\n",
    "    .fillna(30) \\\n",
    "    .astype('int')\n",
    "#train[\"Age\"] = train[\"Age\"].astype('int')\n",
    "#test[\"Age\"] = test[\"Age\"].astype('int')\n",
    "\n",
    "train[\"Fare\"] = train[\"Fare\"] \\\n",
    "    .fillna(7) \\\n",
    "    .astype('int')\n",
    "\n",
    "test[\"Fare\"] = test[\"Fare\"] \\\n",
    "    .fillna(7) \\\n",
    "    .astype('int')\n",
    "\n",
    "#make new features\n",
    "train[\"standing\"] = train[\"Ticket\"] * train[\"Pclass\"]   #* train['Age'].fillna(0).astype('int')\n",
    "test[\"standing\"] = test[\"Ticket\"] * test[\"Pclass\"]   #* test['Age'].fillna(0).astype('int')\n",
    "\n",
    "train[\"money\"] = train[\"Fare\"] * 1 / train[\"Pclass\"].div(3)   #* train['Age'].fillna(0).astype('int')\n",
    "test[\"money\"] = test[\"Fare\"] * 1 / test[\"Pclass\"].div(3)\n",
    "\n",
    "train[\"gender_int\"] = [1 if i == \"female\" else 2 for i in train[\"Sex\"]]\n",
    "test[\"gender_int\"] = [1 if i == \"female\" else 2 for i in test[\"Sex\"]]\n",
    "\n",
    "#train[\"gender_class\"] = train[\"Sex\"].contains(\"female\") * train[\"Pclass\"] #* train['Age'].fillna(0).astype('int')\n",
    "#test[\"gender_class\"] = test[\"Sex\"] * test[\"Pclass\"]\n",
    "\n",
    "train[\"wife\"] = train[\"Name\"].str.contains(\"Mrs.\") \n",
    "#train[\"husband\"] = train[\"Name\"].str.contains(\"Mr.\") + 1\n",
    "train[\"female\"] = train[\"Name\"].str.contains(\"Miss.\") + train[\"wife\"] + 1\n",
    "test[\"wife\"] = test[\"Name\"].str.contains(\"Mrs.\")\n",
    "#test[\"husband\"] = test[\"Name\"].str.contains(\"Mr.\") + test[\"wife\"]\n",
    "test[\"female\"] = test[\"Name\"].str.contains(\"Miss.\") + test[\"wife\"] + 1\n",
    "\n",
    "train[\"rich_female\"] = train[\"money\"] * train[\"female\"]\n",
    "test[\"rich_female\"] = test[\"money\"] * test[\"female\"]\n",
    "\n",
    "train[\"rich_female\"] = train[\"rich_female\"].div(10).astype('int')\n",
    "test[\"rich_female\"] = test[\"rich_female\"].div(10).astype('int')\n",
    "\n",
    "train[\"hot_ticket\"] = [\"high\" if i >= 3 else \"low\" for i in train[\"Ticket\"].astype('int')]\n",
    "test[\"hot_ticket\"] = [\"high\" if i >= 3 else \"low\" for i in test[\"Ticket\"].astype('int')]\n",
    "\n"
   ]
  },
  {
   "cell_type": "code",
   "execution_count": 4,
   "id": "ce04ac76",
   "metadata": {
    "execution": {
     "iopub.execute_input": "2023-01-17T17:49:27.119901Z",
     "iopub.status.busy": "2023-01-17T17:49:27.119489Z",
     "iopub.status.idle": "2023-01-17T17:49:27.694382Z",
     "shell.execute_reply": "2023-01-17T17:49:27.692658Z"
    },
    "papermill": {
     "duration": 0.581975,
     "end_time": "2023-01-17T17:49:27.696945",
     "exception": false,
     "start_time": "2023-01-17T17:49:27.114970",
     "status": "completed"
    },
    "tags": []
   },
   "outputs": [
    {
     "name": "stdout",
     "output_type": "stream",
     "text": [
      "Fitting 5 folds for each of 12 candidates, totalling 60 fits\n",
      "[CV 1/5] END .....................n_neighbors=1;, score=0.765 total time=   0.0s\n",
      "[CV 2/5] END .....................n_neighbors=1;, score=0.725 total time=   0.0s\n",
      "[CV 3/5] END .....................n_neighbors=1;, score=0.809 total time=   0.0s\n",
      "[CV 4/5] END .....................n_neighbors=1;, score=0.753 total time=   0.0s\n",
      "[CV 5/5] END .....................n_neighbors=1;, score=0.792 total time=   0.0s\n",
      "[CV 1/5] END .....................n_neighbors=2;, score=0.788 total time=   0.0s\n",
      "[CV 2/5] END .....................n_neighbors=2;, score=0.775 total time=   0.0s\n",
      "[CV 3/5] END .....................n_neighbors=2;, score=0.803 total time=   0.0s\n",
      "[CV 4/5] END .....................n_neighbors=2;, score=0.792 total time=   0.0s\n",
      "[CV 5/5] END .....................n_neighbors=2;, score=0.848 total time=   0.0s\n",
      "[CV 1/5] END .....................n_neighbors=3;, score=0.810 total time=   0.0s\n",
      "[CV 2/5] END .....................n_neighbors=3;, score=0.764 total time=   0.0s\n",
      "[CV 3/5] END .....................n_neighbors=3;, score=0.826 total time=   0.0s\n",
      "[CV 4/5] END .....................n_neighbors=3;, score=0.803 total time=   0.0s\n",
      "[CV 5/5] END .....................n_neighbors=3;, score=0.809 total time=   0.0s\n",
      "[CV 1/5] END .....................n_neighbors=4;, score=0.788 total time=   0.0s\n",
      "[CV 2/5] END .....................n_neighbors=4;, score=0.775 total time=   0.0s\n",
      "[CV 3/5] END .....................n_neighbors=4;, score=0.831 total time=   0.0s\n",
      "[CV 4/5] END .....................n_neighbors=4;, score=0.792 total time=   0.0s\n",
      "[CV 5/5] END .....................n_neighbors=4;, score=0.826 total time=   0.0s\n",
      "[CV 1/5] END .....................n_neighbors=5;, score=0.782 total time=   0.0s\n",
      "[CV 2/5] END .....................n_neighbors=5;, score=0.787 total time=   0.0s\n",
      "[CV 3/5] END .....................n_neighbors=5;, score=0.831 total time=   0.0s\n",
      "[CV 4/5] END .....................n_neighbors=5;, score=0.815 total time=   0.0s\n",
      "[CV 5/5] END .....................n_neighbors=5;, score=0.826 total time=   0.0s\n",
      "[CV 1/5] END .....................n_neighbors=6;, score=0.771 total time=   0.0s\n",
      "[CV 2/5] END .....................n_neighbors=6;, score=0.787 total time=   0.0s\n",
      "[CV 3/5] END .....................n_neighbors=6;, score=0.815 total time=   0.0s\n",
      "[CV 4/5] END .....................n_neighbors=6;, score=0.809 total time=   0.0s\n",
      "[CV 5/5] END .....................n_neighbors=6;, score=0.815 total time=   0.0s\n",
      "[CV 1/5] END .....................n_neighbors=7;, score=0.788 total time=   0.0s\n",
      "[CV 2/5] END .....................n_neighbors=7;, score=0.803 total time=   0.0s\n",
      "[CV 3/5] END .....................n_neighbors=7;, score=0.837 total time=   0.0s\n",
      "[CV 4/5] END .....................n_neighbors=7;, score=0.809 total time=   0.0s\n",
      "[CV 5/5] END .....................n_neighbors=7;, score=0.837 total time=   0.0s\n",
      "[CV 1/5] END .....................n_neighbors=8;, score=0.765 total time=   0.0s\n",
      "[CV 2/5] END .....................n_neighbors=8;, score=0.803 total time=   0.0s\n",
      "[CV 3/5] END .....................n_neighbors=8;, score=0.831 total time=   0.0s\n",
      "[CV 4/5] END .....................n_neighbors=8;, score=0.803 total time=   0.0s\n",
      "[CV 5/5] END .....................n_neighbors=8;, score=0.820 total time=   0.0s\n",
      "[CV 1/5] END .....................n_neighbors=9;, score=0.771 total time=   0.0s\n",
      "[CV 2/5] END .....................n_neighbors=9;, score=0.798 total time=   0.0s\n",
      "[CV 3/5] END .....................n_neighbors=9;, score=0.837 total time=   0.0s\n",
      "[CV 4/5] END .....................n_neighbors=9;, score=0.809 total time=   0.0s\n",
      "[CV 5/5] END .....................n_neighbors=9;, score=0.831 total time=   0.0s\n",
      "[CV 1/5] END ....................n_neighbors=10;, score=0.777 total time=   0.0s\n",
      "[CV 2/5] END ....................n_neighbors=10;, score=0.820 total time=   0.0s\n",
      "[CV 3/5] END ....................n_neighbors=10;, score=0.826 total time=   0.0s\n",
      "[CV 4/5] END ....................n_neighbors=10;, score=0.809 total time=   0.0s\n",
      "[CV 5/5] END ....................n_neighbors=10;, score=0.815 total time=   0.0s\n",
      "[CV 1/5] END ....................n_neighbors=11;, score=0.782 total time=   0.0s\n",
      "[CV 2/5] END ....................n_neighbors=11;, score=0.815 total time=   0.0s\n",
      "[CV 3/5] END ....................n_neighbors=11;, score=0.831 total time=   0.0s\n",
      "[CV 4/5] END ....................n_neighbors=11;, score=0.803 total time=   0.0s\n",
      "[CV 5/5] END ....................n_neighbors=11;, score=0.820 total time=   0.0s\n",
      "[CV 1/5] END ....................n_neighbors=12;, score=0.782 total time=   0.0s\n",
      "[CV 2/5] END ....................n_neighbors=12;, score=0.831 total time=   0.0s\n",
      "[CV 3/5] END ....................n_neighbors=12;, score=0.826 total time=   0.0s\n",
      "[CV 4/5] END ....................n_neighbors=12;, score=0.803 total time=   0.0s\n",
      "[CV 5/5] END ....................n_neighbors=12;, score=0.831 total time=   0.0s\n"
     ]
    }
   ],
   "source": [
    " #First we create our encoder\n",
    "enc = OneHotEncoder()\n",
    "drop_list = [\"Sex\", \"Name\", \"Embarked\", \"Embarked_nan\", \"Embarked_Q\", \"Embarked_C\", \\\n",
    "             \"Pclass\", \"female\", \"Fare\", \"Sex_male\", \"Sex_female\", 'hot_ticket', \"Ticket\"]\n",
    "\n",
    "#We create new column names from the categories using `enc.get_feature_names_out(['Sex', 'Embarked'])`\n",
    "#We fit the encoder to the training data and transform it simultaneously with the .fit_transform() method\n",
    "train[enc.get_feature_names_out(['Sex', 'Embarked', 'hot_ticket'])] = enc.fit_transform(train[['Sex', 'Embarked', 'hot_ticket']]).toarray()\n",
    "\n",
    "#We need to drop the original columns after\n",
    "train = train.drop(drop_list, axis =1)\n",
    "\n",
    "\n",
    "test[enc.get_feature_names_out(['Sex', 'Embarked', 'hot_ticket'])] = enc.transform(test[['Sex', 'Embarked', 'hot_ticket']]).toarray()\n",
    "test = test.drop(drop_list, axis =1)\n",
    "#First we create the scaler and fit it to our TRAINING DATA ONLY!\n",
    "#We simultaneously transform it with .fit_transform\n",
    "\n",
    "columns = train.columns\n",
    "\n",
    "scaler = MinMaxScaler()\n",
    "train = scaler.fit_transform(train)\n",
    "\n",
    "#Now using the scaler fit to the training data, we transform dev and test\n",
    "test = scaler.transform(test)\n",
    "\n",
    "\n",
    "\n",
    "# Estimate by cross-validation of the optimal number of neighbors (k)\n",
    "\n",
    "#The dictionary below is used by grid search. The keys in the dictionary need to be exactly\n",
    "#what the params in the KNeighborsClassifier are called. The value needs to be a list of values to try.\n",
    "#We will try to use between 1 and the number of features\n",
    "k = {'n_neighbors': np.concatenate([np.arange(1, train.shape[1]+1)]).tolist()}\n",
    "\n",
    "#Now we create the grid search object and fit it with our training data.\n",
    "#It uses a subset of the data to get an accuracy. It repeats this process 5 time for each possible k we\n",
    "#told it to try.\n",
    "best_param_kNN = GridSearchCV(KNeighborsClassifier(p=1), k, scoring='accuracy', verbose = 3)\n",
    "best_param_kNN.fit(train, train_labels)\n",
    "\n",
    "#Now we express the best parameter and print it\n",
    "optimal_k = best_param_kNN.best_params_['n_neighbors']\n",
    "\n",
    "#Now we create our model using the optimal K\n",
    "kNN = KNeighborsClassifier(n_neighbors=optimal_k, p=1)\n",
    "\n",
    "#Now we \"fit\" the knn, and test it's accuracy with the dev set.\n",
    "start_time = time.time()\n",
    "cv_scores = cross_val_score(kNN, train, train_labels, cv=5)\n",
    "\n",
    "# print (f'Accuracy using train data: {np.mean(cv_scores)}')\n",
    "# print ('Train time and Predict Time = %.2f' %(time.time() - start_time))\n"
   ]
  },
  {
   "cell_type": "code",
   "execution_count": 5,
   "id": "862b352b",
   "metadata": {
    "execution": {
     "iopub.execute_input": "2023-01-17T17:49:27.705027Z",
     "iopub.status.busy": "2023-01-17T17:49:27.704656Z",
     "iopub.status.idle": "2023-01-17T17:49:27.735319Z",
     "shell.execute_reply": "2023-01-17T17:49:27.733280Z"
    },
    "papermill": {
     "duration": 0.037973,
     "end_time": "2023-01-17T17:49:27.738257",
     "exception": false,
     "start_time": "2023-01-17T17:49:27.700284",
     "status": "completed"
    },
    "tags": []
   },
   "outputs": [
    {
     "name": "stdout",
     "output_type": "stream",
     "text": [
      "done\n"
     ]
    }
   ],
   "source": [
    "kNN = KNeighborsClassifier(n_neighbors=optimal_k+1, p=1)\n",
    "\n",
    "#Now we \"fit\" the knn, and test it's accuracy with the dev set.\n",
    "\n",
    "kNN.fit(train, train_labels)\n",
    "\n",
    "\n",
    "#Finally we make our predictions, zip them up with the passenger ids, and submit!\n",
    "predictions =kNN.predict(test)\n",
    "\n",
    "output = pd.DataFrame({'PassengerId': test_ids, 'Survived': predictions})\n",
    "output.to_csv('submission.csv', index=False)\n",
    "print('done')"
   ]
  },
  {
   "cell_type": "code",
   "execution_count": 6,
   "id": "46a3ecb7",
   "metadata": {
    "execution": {
     "iopub.execute_input": "2023-01-17T17:49:27.746592Z",
     "iopub.status.busy": "2023-01-17T17:49:27.746214Z",
     "iopub.status.idle": "2023-01-17T17:49:29.284310Z",
     "shell.execute_reply": "2023-01-17T17:49:29.283328Z"
    },
    "papermill": {
     "duration": 1.544351,
     "end_time": "2023-01-17T17:49:29.286053",
     "exception": false,
     "start_time": "2023-01-17T17:49:27.741702",
     "status": "completed"
    },
    "tags": []
   },
   "outputs": [
    {
     "name": "stdout",
     "output_type": "stream",
     "text": [
      "Best alpha using built-in LassoCV: 0.000586\n",
      "Best score using built-in LassoCV: 0.403508\n",
      "Lasso picked 11 variables and eliminated the other 1 variables\n"
     ]
    },
    {
     "data": {
      "text/plain": [
       "Text(0.5, 1.0, 'Feature importance using Lasso Model')"
      ]
     },
     "execution_count": 6,
     "metadata": {},
     "output_type": "execute_result"
    },
    {
     "data": {
      "image/png": "[encoded data removed]",
      "text/plain": [
       "<Figure size 576x720 with 1 Axes>"
      ]
     },
     "metadata": {
      "needs_background": "light"
     },
     "output_type": "display_data"
    }
   ],
   "source": [
    "from sklearn.datasets import load_boston\n",
    "import pandas as pd\n",
    "import numpy as np\n",
    "import matplotlib\n",
    "import matplotlib.pyplot as plt\n",
    "import seaborn as sns\n",
    "import statsmodels.api as sm\n",
    "%matplotlib inline\n",
    "from sklearn.model_selection import train_test_split\n",
    "from sklearn.linear_model import LinearRegression\n",
    "from sklearn.feature_selection import RFE\n",
    "from sklearn.linear_model import RidgeCV, LassoCV, Ridge, Lasso#Loading the dataset\n",
    "\n",
    "X = pd.DataFrame(train, columns=columns)\n",
    "reg = LassoCV()\n",
    "reg.fit(X, train_labels)\n",
    "print(\"Best alpha using built-in LassoCV: %f\" % reg.alpha_)\n",
    "print(\"Best score using built-in LassoCV: %f\" %reg.score(X,train_labels))\n",
    "coef = pd.Series(reg.coef_, index = columns)\n",
    "\n",
    "print(\"Lasso picked \" + str(sum(coef != 0)) + \" variables and eliminated the other \" +  str(sum(coef == 0)) + \" variables\")\n",
    "\n",
    "imp_coef = coef.sort_values()\n",
    "import matplotlib\n",
    "matplotlib.rcParams['figure.figsize'] = (8.0, 10.0)\n",
    "imp_coef.plot(kind = \"barh\")\n",
    "plt.title(\"Feature importance using Lasso Model\")"
   ]
  },
  {
   "cell_type": "code",
   "execution_count": 7,
   "id": "ba03d1b7",
   "metadata": {
    "execution": {
     "iopub.execute_input": "2023-01-17T17:49:29.295222Z",
     "iopub.status.busy": "2023-01-17T17:49:29.294562Z",
     "iopub.status.idle": "2023-01-17T17:49:29.301236Z",
     "shell.execute_reply": "2023-01-17T17:49:29.299439Z"
    },
    "papermill": {
     "duration": 0.014591,
     "end_time": "2023-01-17T17:49:29.304274",
     "exception": false,
     "start_time": "2023-01-17T17:49:29.289683",
     "status": "completed"
    },
    "tags": []
   },
   "outputs": [],
   "source": [
    "# making new features\n",
    "\n"
   ]
  },
  {
   "cell_type": "code",
   "execution_count": null,
   "id": "94acca97",
   "metadata": {
    "papermill": {
     "duration": 0.003266,
     "end_time": "2023-01-17T17:49:29.311354",
     "exception": false,
     "start_time": "2023-01-17T17:49:29.308088",
     "status": "completed"
    },
    "tags": []
   },
   "outputs": [],
   "source": []
  },
  {
   "cell_type": "code",
   "execution_count": null,
   "id": "c3c859c0",
   "metadata": {
    "papermill": {
     "duration": 0.003303,
     "end_time": "2023-01-17T17:49:29.318212",
     "exception": false,
     "start_time": "2023-01-17T17:49:29.314909",
     "status": "completed"
    },
    "tags": []
   },
   "outputs": [],
   "source": []
  }
 ],
 "metadata": {
  "kernelspec": {
   "display_name": "Python 3",
   "language": "python",
   "name": "python3"
  },
  "language_info": {
   "codemirror_mode": {
    "name": "ipython",
    "version": 3
   },
   "file_extension": ".py",
   "mimetype": "text/x-python",
   "name": "python",
   "nbconvert_exporter": "python",
   "pygments_lexer": "ipython3",
   "version": "3.7.12"
  },
  "papermill": {
   "default_parameters": {},
   "duration": 13.345541,
   "end_time": "2023-01-17T17:49:30.244074",
   "environment_variables": {},
   "exception": null,
   "input_path": "__notebook__.ipynb",
   "output_path": "__notebook__.ipynb",
   "parameters": {},
   "start_time": "2023-01-17T17:49:16.898533",
   "version": "2.3.4"
  }
 },
 "nbformat": 4,
 "nbformat_minor": 5
}
